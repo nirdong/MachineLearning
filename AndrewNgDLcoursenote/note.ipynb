{
 "cells": [
  {
   "cell_type": "code",
   "execution_count": 1,
   "metadata": {},
   "outputs": [],
   "source": [
    "import numpy as np"
   ]
  },
  {
   "cell_type": "code",
   "execution_count": 5,
   "metadata": {},
   "outputs": [
    {
     "data": {
      "text/plain": [
       "numpy.ndarray"
      ]
     },
     "execution_count": 5,
     "metadata": {},
     "output_type": "execute_result"
    }
   ],
   "source": [
    "a = np.random.randn(100,2)\n",
    "type(a)"
   ]
  },
  {
   "cell_type": "code",
   "execution_count": 9,
   "metadata": {},
   "outputs": [
    {
     "data": {
      "text/plain": [
       "0.6491372612911062"
      ]
     },
     "execution_count": 9,
     "metadata": {},
     "output_type": "execute_result"
    }
   ],
   "source": [
    "a[0][1]"
   ]
  },
  {
   "cell_type": "code",
   "execution_count": 6,
   "metadata": {},
   "outputs": [
    {
     "data": {
      "text/plain": [
       "0.8867094331413732"
      ]
     },
     "execution_count": 6,
     "metadata": {},
     "output_type": "execute_result"
    }
   ],
   "source": [
    "a.var()"
   ]
  },
  {
   "cell_type": "code",
   "execution_count": 4,
   "metadata": {},
   "outputs": [
    {
     "data": {
      "text/plain": [
       "array([[ 1.019275  , -0.05767043,  0.18978987, -0.19818002, -0.55443494],\n",
       "       [-0.05767043,  0.00326298, -0.01073828,  0.011213  ,  0.03136985],\n",
       "       [ 0.18978987, -0.01073828,  0.03533903, -0.03690129, -0.10323625],\n",
       "       [-0.19818002,  0.011213  , -0.03690129,  0.0385326 ,  0.10780008],\n",
       "       [-0.55443494,  0.03136985, -0.10323625,  0.10780008,  0.30158505]])"
      ]
     },
     "execution_count": 4,
     "metadata": {},
     "output_type": "execute_result"
    }
   ],
   "source": [
    "a*a.T"
   ]
  },
  {
   "cell_type": "code",
   "execution_count": 5,
   "metadata": {},
   "outputs": [
    {
     "data": {
      "text/plain": [
       "array([[ 1.0095915 , -0.05712254,  0.18798679, -0.19629723, -0.54916759]])"
      ]
     },
     "execution_count": 5,
     "metadata": {},
     "output_type": "execute_result"
    }
   ],
   "source": [
    "a.T"
   ]
  },
  {
   "cell_type": "code",
   "execution_count": 7,
   "metadata": {},
   "outputs": [
    {
     "data": {
      "text/plain": [
       "(5, 1)"
      ]
     },
     "execution_count": 7,
     "metadata": {},
     "output_type": "execute_result"
    }
   ],
   "source": [
    "a.shape"
   ]
  },
  {
   "cell_type": "code",
   "execution_count": 12,
   "metadata": {},
   "outputs": [
    {
     "ename": "AssertionError",
     "evalue": "",
     "output_type": "error",
     "traceback": [
      "\u001b[0;31m---------------------------------------------------------------------------\u001b[0m",
      "\u001b[0;31mAssertionError\u001b[0m                            Traceback (most recent call last)",
      "\u001b[0;32m<ipython-input-12-7c8571965cc8>\u001b[0m in \u001b[0;36m<module>\u001b[0;34m()\u001b[0m\n\u001b[0;32m----> 1\u001b[0;31m \u001b[0;32massert\u001b[0m\u001b[0;34m(\u001b[0m\u001b[0ma\u001b[0m\u001b[0;34m.\u001b[0m\u001b[0mshape\u001b[0m \u001b[0;34m!=\u001b[0m \u001b[0;34m(\u001b[0m\u001b[0;36m5\u001b[0m\u001b[0;34m,\u001b[0m \u001b[0;36m1\u001b[0m\u001b[0;34m)\u001b[0m\u001b[0;34m)\u001b[0m\u001b[0;34m\u001b[0m\u001b[0m\n\u001b[0m",
      "\u001b[0;31mAssertionError\u001b[0m: "
     ]
    }
   ],
   "source": [
    "assert(a.shape != (5, 1))"
   ]
  },
  {
   "cell_type": "code",
   "execution_count": 16,
   "metadata": {},
   "outputs": [],
   "source": [
    "assert 1 == 1, \"'dfs'\""
   ]
  },
  {
   "cell_type": "code",
   "execution_count": 9,
   "metadata": {},
   "outputs": [],
   "source": [
    "import numpy as np\n",
    "import tensorflow as tf"
   ]
  },
  {
   "cell_type": "code",
   "execution_count": 17,
   "metadata": {},
   "outputs": [
    {
     "name": "stdout",
     "output_type": "stream",
     "text": [
      "0.0\n"
     ]
    }
   ],
   "source": [
    "coefficients = np.array([[1.], [-10], [25,]])\n",
    "\n",
    "w = tf.Variable(0, dtype=tf.float32)\n",
    "x = tf.placeholder(tf.float32, [3,1])\n",
    "#cost = tf.add(tf.add(w**2,tf.multiply(-10.,w)),25)\n",
    "#cost = w**2 - 10*w + 25\n",
    "cost = x[0][0]*w**2 + x[1][0]*w + x[2][0]\n",
    "train = tf.train.GradientDescentOptimizer(0.01).minimize(cost)\n",
    "\n",
    "init = tf.global_variables_initializer()\n",
    "session = tf.Session()\n",
    "session.run(init)\n",
    "print(session.run(w))"
   ]
  },
  {
   "cell_type": "code",
   "execution_count": 19,
   "metadata": {},
   "outputs": [
    {
     "ename": "NameError",
     "evalue": "name 'cofficients' is not defined",
     "output_type": "error",
     "traceback": [
      "\u001b[0;31m---------------------------------------------------------------------------\u001b[0m",
      "\u001b[0;31mNameError\u001b[0m                                 Traceback (most recent call last)",
      "\u001b[0;32m<ipython-input-19-22c5752db708>\u001b[0m in \u001b[0;36m<module>\u001b[0;34m()\u001b[0m\n\u001b[0;32m----> 1\u001b[0;31m \u001b[0msession\u001b[0m\u001b[0;34m.\u001b[0m\u001b[0mrun\u001b[0m\u001b[0;34m(\u001b[0m\u001b[0mtrain\u001b[0m\u001b[0;34m,\u001b[0m \u001b[0mfeed_dict\u001b[0m\u001b[0;34m=\u001b[0m\u001b[0;34m{\u001b[0m\u001b[0mx\u001b[0m\u001b[0;34m:\u001b[0m\u001b[0mcofficients\u001b[0m\u001b[0;34m}\u001b[0m\u001b[0;34m)\u001b[0m\u001b[0;34m\u001b[0m\u001b[0m\n\u001b[0m\u001b[1;32m      2\u001b[0m \u001b[0mprint\u001b[0m\u001b[0;34m(\u001b[0m\u001b[0msession\u001b[0m\u001b[0;34m.\u001b[0m\u001b[0mrun\u001b[0m\u001b[0;34m(\u001b[0m\u001b[0mw\u001b[0m\u001b[0;34m)\u001b[0m\u001b[0;34m)\u001b[0m\u001b[0;34m\u001b[0m\u001b[0m\n",
      "\u001b[0;31mNameError\u001b[0m: name 'cofficients' is not defined"
     ]
    }
   ],
   "source": [
    "session.run(train, feed_dict={x:cofficients})\n",
    "print(session.run(w))"
   ]
  },
  {
   "cell_type": "code",
   "execution_count": 15,
   "metadata": {},
   "outputs": [
    {
     "name": "stdout",
     "output_type": "stream",
     "text": [
      "0.19799998\n",
      "0.29403996\n",
      "0.38815916\n",
      "0.48039597\n",
      "0.570788\n",
      "0.65937227\n",
      "0.7461848\n",
      "0.83126116\n",
      "0.91463596\n",
      "0.99634326\n",
      "1.0764164\n",
      "1.154888\n",
      "1.2317903\n",
      "1.3071545\n",
      "1.3810115\n",
      "1.4533913\n",
      "1.5243235\n",
      "1.593837\n",
      "1.6619602\n",
      "1.728721\n",
      "1.7941465\n",
      "1.8582636\n",
      "1.9210984\n",
      "1.9826764\n",
      "2.0430229\n",
      "2.1021624\n",
      "2.160119\n",
      "2.2169166\n",
      "2.2725782\n",
      "2.3271267\n",
      "2.3805842\n",
      "2.4329727\n",
      "2.4843132\n",
      "2.534627\n",
      "2.5839343\n",
      "2.6322556\n",
      "2.6796105\n",
      "2.7260182\n",
      "2.7714977\n",
      "2.8160677\n",
      "2.8597465\n",
      "2.9025514\n",
      "2.9445004\n",
      "2.9856105\n",
      "3.0258982\n",
      "3.0653803\n",
      "3.1040728\n",
      "3.1419914\n",
      "3.1791515\n",
      "3.2155685\n",
      "3.2512572\n",
      "3.286232\n",
      "3.3205073\n",
      "3.3540971\n",
      "3.387015\n",
      "3.4192748\n",
      "3.4508893\n",
      "3.4818716\n",
      "3.5122342\n",
      "3.5419896\n",
      "3.5711498\n",
      "3.599727\n",
      "3.6277323\n",
      "3.6551776\n",
      "3.682074\n",
      "3.7084327\n",
      "3.7342641\n",
      "3.759579\n",
      "3.7843874\n",
      "3.8086996\n",
      "3.8325257\n",
      "3.8558753\n",
      "3.8787577\n",
      "3.9011827\n",
      "3.923159\n",
      "3.9446957\n",
      "3.9658017\n",
      "3.9864857\n",
      "4.006756\n",
      "4.026621\n",
      "4.046088\n",
      "4.0651665\n",
      "4.0838633\n",
      "4.102186\n",
      "4.1201425\n",
      "4.1377397\n",
      "4.154985\n",
      "4.1718855\n",
      "4.188448\n",
      "4.204679\n",
      "4.2205853\n",
      "4.2361736\n",
      "4.25145\n",
      "4.266421\n",
      "4.2810926\n",
      "4.2954707\n",
      "4.3095613\n",
      "4.32337\n",
      "4.3369026\n",
      "4.3501644\n"
     ]
    }
   ],
   "source": [
    "for i in range(100):\n",
    "    session.run(train)\n",
    "    print(session.run(w))"
   ]
  },
  {
   "cell_type": "code",
   "execution_count": null,
   "metadata": {},
   "outputs": [],
   "source": []
  }
 ],
 "metadata": {
  "kernelspec": {
   "display_name": "Python 3",
   "language": "python",
   "name": "python3"
  },
  "language_info": {
   "codemirror_mode": {
    "name": "ipython",
    "version": 3
   },
   "file_extension": ".py",
   "mimetype": "text/x-python",
   "name": "python",
   "nbconvert_exporter": "python",
   "pygments_lexer": "ipython3",
   "version": "3.6.3"
  }
 },
 "nbformat": 4,
 "nbformat_minor": 2
}
