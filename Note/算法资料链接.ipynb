{
 "cells": [
  {
   "cell_type": "markdown",
   "metadata": {},
   "source": [
    "### 朴素贝叶斯   \n",
    "https://blog.csdn.net/fisherming/article/details/79509025"
   ]
  },
  {
   "cell_type": "markdown",
   "metadata": {},
   "source": [
    "### RNN back proporgation"
   ]
  },
  {
   "cell_type": "markdown",
   "metadata": {},
   "source": [
    "RNN 反向传播公式推导（非矩阵式）   \n",
    "https://blog.csdn.net/weixin_41993031/article/details/84899021   \n",
    "\n",
    "\n",
    "On the difficulty of training recurrent neural networks    \n",
    "http://proceedings.mlr.press/v28/pascanu13.pdf\n",
    "\n",
    "ppt    \n",
    "https://www.cs.toronto.edu/~tingwuwang/rnn_tutorial.pdf   \n",
    "\n",
    "\n",
    "循环神经网络（一般RNN）推导   \n",
    "很重要的w图    \n",
    "https://blog.csdn.net/dchen1993/article/details/53885490\n",
    "\n",
    "\n",
    "http://www.wildml.com/2015/10/recurrent-neural-networks-tutorial-part-3-backpropagation-through-time-and-vanishing-gradients/   \n",
    "\n",
    "\n",
    "https://stats.stackexchange.com/questions/193352/in-rnn-back-propagation-through-time-why-is-the-dh-t-dh-t-1-diagonal   \n",
    "哈希表 一致性哈希   \n"
   ]
  },
  {
   "cell_type": "markdown",
   "metadata": {},
   "source": []
  }
 ],
 "metadata": {
  "kernelspec": {
   "display_name": "Python 3",
   "language": "python",
   "name": "python3"
  },
  "language_info": {
   "codemirror_mode": {
    "name": "ipython",
    "version": 3
   },
   "file_extension": ".py",
   "mimetype": "text/x-python",
   "name": "python",
   "nbconvert_exporter": "python",
   "pygments_lexer": "ipython3",
   "version": "3.6.3"
  }
 },
 "nbformat": 4,
 "nbformat_minor": 2
}
