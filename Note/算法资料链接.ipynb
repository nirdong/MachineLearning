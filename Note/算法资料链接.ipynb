{
 "cells": [
  {
   "cell_type": "markdown",
   "metadata": {},
   "source": [
    "### 朴素贝叶斯   \n",
    "https://blog.csdn.net/fisherming/article/details/79509025"
   ]
  },
  {
   "cell_type": "markdown",
   "metadata": {},
   "source": [
    "### RNN back proporgation"
   ]
  },
  {
   "cell_type": "markdown",
   "metadata": {},
   "source": [
    "RNN 反向传播公式推导（非矩阵式）   \n",
    "https://blog.csdn.net/weixin_41993031/article/details/84899021   \n",
    "\n",
    "\n",
    "On the difficulty of training recurrent neural networks    \n",
    "http://proceedings.mlr.press/v28/pascanu13.pdf\n",
    "\n",
    "ppt    \n",
    "https://www.cs.toronto.edu/~tingwuwang/rnn_tutorial.pdf   \n",
    "\n",
    "\n",
    "循环神经网络（一般RNN）推导   \n",
    "很重要的w图    \n",
    "https://blog.csdn.net/dchen1993/article/details/53885490\n",
    "\n",
    "\n",
    "http://www.wildml.com/2015/10/recurrent-neural-networks-tutorial-part-3-backpropagation-through-time-and-vanishing-gradients/   \n",
    "\n",
    "\n",
    "https://stats.stackexchange.com/questions/193352/in-rnn-back-propagation-through-time-why-is-the-dh-t-dh-t-1-diagonal \n",
    "\n",
    "哈希表 一致性哈希   \n",
    "http://www.zsythink.net/archives/1182/    \n",
    "https://www.cnblogs.com/gaochundong/p/hashtable_and_perfect_hashing.html    \n",
    "\n",
    "决策树   \n",
    "https://blog.csdn.net/u012328159/article/details/70184415    \n",
    "\n",
    "熵   \n",
    "https://blog.csdn.net/tsyccnh/article/details/79163834   \n",
    "\n",
    "Xgboost   \n",
    "https://homes.cs.washington.edu/~tqchen/pdf/BoostedTree.pdf    \n",
    "\n",
    "\n",
    "准确率 召回 精度 解释的最好的博客   \n",
    "https://www.cnblogs.com/xuexuefirst/p/8858274.html   \n",
    "\n",
    "ROC AUC   \n",
    "https://www.jianshu.com/p/c61ae11cc5f6    \n",
    "\n"
   ]
  },
  {
   "cell_type": "markdown",
   "metadata": {},
   "source": [
    "### tensorflow   \n",
    "input data   iter\n",
    "https://www.cnblogs.com/jins-note/p/10243716.html   \n",
    "https://cloud.tencent.com/developer/article/1096597    \n",
    "https://blog.csdn.net/appleml/article/details/53897395?utm_source=itdadao&utm_medium=referral   \n",
    "\n",
    "### textCNN    \n",
    "讲的比较细   \n",
    "https://blog.csdn.net/chivalrousli/article/details/77168397    \n",
    "\n",
    "\n",
    "### dropout   \n",
    "https://blog.csdn.net/stdcoutzyx/article/details/49022443   "
   ]
  },
  {
   "cell_type": "markdown",
   "metadata": {},
   "source": [
    "### 协同过滤    基于用户的     \n",
    "https://www.2cto.com/kf/201612/575107.html    \n",
    "\n",
    "### 协同过滤 基于项目的    \n",
    "https://blog.csdn.net/keyue123/article/details/85856515  \n",
    "\n",
    "### 皮尔逊相关系数     \n",
    "https://www.cnblogs.com/muffled/p/3812084.html   \n",
    "\n",
    "### 正则表达式    \n",
    "\n",
    "https://blog.csdn.net/djskl/article/details/44357389    \n",
    "\n",
    "https://www.cnblogs.com/chuxiuhong/p/5885073.html\n",
    "\n",
    "https://www.cnblogs.com/cp-miao/p/5567115.html    \n",
    "\n",
    "https://blog.csdn.net/chenmozhe22/article/details/80601971   \n",
    "\n",
    "https://blog.csdn.net/icbm/article/details/74224152   "
   ]
  },
  {
   "cell_type": "markdown",
   "metadata": {},
   "source": [
    "### name_scope   \n",
    "https://www.jianshu.com/p/635d95b34e14   \n",
    "\n",
    "### 深度学习作业目录   \n",
    "https://blog.csdn.net/u013733326/article/details/79827273   "
   ]
  },
  {
   "cell_type": "code",
   "execution_count": null,
   "metadata": {},
   "outputs": [],
   "source": []
  }
 ],
 "metadata": {
  "kernelspec": {
   "display_name": "Python 3",
   "language": "python",
   "name": "python3"
  },
  "language_info": {
   "codemirror_mode": {
    "name": "ipython",
    "version": 3
   },
   "file_extension": ".py",
   "mimetype": "text/x-python",
   "name": "python",
   "nbconvert_exporter": "python",
   "pygments_lexer": "ipython3",
   "version": "3.6.3"
  }
 },
 "nbformat": 4,
 "nbformat_minor": 2
}
