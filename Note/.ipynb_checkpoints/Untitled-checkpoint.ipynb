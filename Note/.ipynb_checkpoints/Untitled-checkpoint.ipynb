{
 "cells": [
  {
   "cell_type": "markdown",
   "metadata": {},
   "source": [
    "### RNN back proporgation"
   ]
  },
  {
   "cell_type": "markdown",
   "metadata": {},
   "source": [
    "RNN 反向传播公式推导（非矩阵式）   \n",
    "https://blog.csdn.net/weixin_41993031/article/details/84899021   \n",
    "\n",
    "\n",
    "On the difficulty of training recurrent neural networks    \n",
    "http://proceedings.mlr.press/v28/pascanu13.pdf\n",
    "\n",
    "ppt    \n",
    "https://www.cs.toronto.edu/~tingwuwang/rnn_tutorial.pdf   \n",
    "\n",
    "\n",
    "循环神经网络（一般RNN）推导   \n",
    "很重要的w图    \n",
    "https://blog.csdn.net/dchen1993/article/details/53885490"
   ]
  },
  {
   "cell_type": "code",
   "execution_count": null,
   "metadata": {},
   "outputs": [],
   "source": []
  }
 ],
 "metadata": {
  "kernelspec": {
   "display_name": "Python 3",
   "language": "python",
   "name": "python3"
  },
  "language_info": {
   "codemirror_mode": {
    "name": "ipython",
    "version": 3
   },
   "file_extension": ".py",
   "mimetype": "text/x-python",
   "name": "python",
   "nbconvert_exporter": "python",
   "pygments_lexer": "ipython3",
   "version": "3.6.3"
  }
 },
 "nbformat": 4,
 "nbformat_minor": 2
}
