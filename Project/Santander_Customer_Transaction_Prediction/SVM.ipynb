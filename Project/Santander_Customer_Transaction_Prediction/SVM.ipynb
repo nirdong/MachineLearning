{
 "cells": [
  {
   "cell_type": "code",
   "execution_count": 32,
   "metadata": {},
   "outputs": [],
   "source": [
    "from libsvm.svmutil import *\n",
    "from libsvm.svm import *"
   ]
  },
  {
   "cell_type": "code",
   "execution_count": null,
   "metadata": {},
   "outputs": [],
   "source": []
  },
  {
   "cell_type": "code",
   "execution_count": 49,
   "metadata": {},
   "outputs": [
    {
     "name": "stdout",
     "output_type": "stream",
     "text": [
      "Train:  (200000, 202)\n",
      "Test:  (200000, 201)\n"
     ]
    }
   ],
   "source": [
    "#Import Library\n",
    "from sklearn import svm\n",
    "\n",
    "\n",
    "import pandas as pd\n",
    "train = pd.read_csv('/Users/Moli/Documents/InputML/santander-customer-transaction-prediction/train.csv')\n",
    "test = pd.read_csv('/Users/Moli/Documents/InputML/santander-customer-transaction-prediction/test.csv')\n",
    "print(\"Train: \",train.shape)\n",
    "print(\"Test: \", test.shape)"
   ]
  },
  {
   "cell_type": "code",
   "execution_count": 50,
   "metadata": {},
   "outputs": [
    {
     "name": "stdout",
     "output_type": "stream",
     "text": [
      "Train:  (200000, 202)\n"
     ]
    }
   ],
   "source": [
    "print(\"Train: \",train.shape)"
   ]
  },
  {
   "cell_type": "code",
   "execution_count": 51,
   "metadata": {},
   "outputs": [],
   "source": [
    "#target = train.pop('target')\n",
    "train_ids = train.pop('ID_code')\n",
    "test_ids = test.pop('ID_code')\n",
    "len_train = len(train)"
   ]
  },
  {
   "cell_type": "code",
   "execution_count": 52,
   "metadata": {},
   "outputs": [],
   "source": [
    "from sklearn.model_selection import train_test_split\n",
    "train_X, val_X, train_y, val_y = train_test_split(train, target, random_state = 0)"
   ]
  },
  {
   "cell_type": "code",
   "execution_count": 54,
   "metadata": {},
   "outputs": [
    {
     "name": "stdout",
     "output_type": "stream",
     "text": [
      "Format Converting begin in time:... 1552492139.539655\n",
      "finish convert,the cost time is  66.0397081375122\n",
      "[Done]\n",
      "\n"
     ]
    }
   ],
   "source": [
    "import pandas as pd \n",
    "import time\n",
    "def df2ffm(df, fp):\n",
    "        '''\n",
    "        Convert pandas.DataFrame to data format that libffm can directly use\n",
    "\n",
    "\n",
    "        @Args:\n",
    "            df: pandas.DataFrame to be converted\n",
    "            fp: save libffm format data to fp<filepath>\n",
    "        '''\n",
    "        now = time.time()\n",
    "        print('Format Converting begin in time:...',now)\n",
    "        columns = df.columns.values\n",
    "        d = len(columns)\n",
    "        feature_index = [i for i in range(d)]\n",
    "        field_index = [0]*d\n",
    "        field = []\n",
    "        for col in columns:\n",
    "            field.append(col.split('_')[0])\n",
    "        index = -1\n",
    "        for i in range(d):\n",
    "            if i==0 or field[i]!=field[i-1]:\n",
    "                index+=1\n",
    "            field_index[i] = index\n",
    "\n",
    "\n",
    "        with open(fp, 'w') as f:\n",
    "            for row in df.values:\n",
    "                line =str(int(row[0]))\n",
    "                #print(line)\n",
    "                for i in range(1, len(row)):\n",
    "                    if row[i]!=0:\n",
    "                        line += \" %d:%.4f\" % (feature_index[i], row[i])\n",
    "                       # print(line)\n",
    "                line+='\\n'\n",
    "                f.write(line)\n",
    "        print('finish convert,the cost time is ',time.time()-now)\n",
    "        print('[Done]')\n",
    "        print()\n",
    "\n",
    "def main():\n",
    "    df = train_X\n",
    "    df = df.fillna(0) \n",
    "    fp = '/Users/Moli/Documents/InputML/santander-customer-transaction-prediction/train_libsvm.txt' \n",
    "    df2ffm(df,fp)\n",
    "\n",
    "\n",
    "if __name__ == '__main__':\n",
    "    main()"
   ]
  },
  {
   "cell_type": "code",
   "execution_count": 66,
   "metadata": {},
   "outputs": [],
   "source": [
    "y_train, x_train = svm_read_problem('/Users/Moli/Documents/InputML/santander-customer-transaction-prediction/train_libsvm.txt')"
   ]
  },
  {
   "cell_type": "code",
   "execution_count": 68,
   "metadata": {},
   "outputs": [
    {
     "data": {
      "text/plain": [
       "0.0"
      ]
     },
     "execution_count": 68,
     "metadata": {},
     "output_type": "execute_result"
    }
   ],
   "source": [
    "y_train[0]"
   ]
  },
  {
   "cell_type": "code",
   "execution_count": null,
   "metadata": {},
   "outputs": [],
   "source": [
    "model = svm_train(y_train, x_train)"
   ]
  },
  {
   "cell_type": "code",
   "execution_count": 38,
   "metadata": {},
   "outputs": [
    {
     "data": {
      "text/html": [
       "<div>\n",
       "<style scoped>\n",
       "    .dataframe tbody tr th:only-of-type {\n",
       "        vertical-align: middle;\n",
       "    }\n",
       "\n",
       "    .dataframe tbody tr th {\n",
       "        vertical-align: top;\n",
       "    }\n",
       "\n",
       "    .dataframe thead th {\n",
       "        text-align: right;\n",
       "    }\n",
       "</style>\n",
       "<table border=\"1\" class=\"dataframe\">\n",
       "  <thead>\n",
       "    <tr style=\"text-align: right;\">\n",
       "      <th></th>\n",
       "      <th>var_0</th>\n",
       "      <th>var_1</th>\n",
       "      <th>var_2</th>\n",
       "      <th>var_3</th>\n",
       "      <th>var_4</th>\n",
       "      <th>var_5</th>\n",
       "      <th>var_6</th>\n",
       "      <th>var_7</th>\n",
       "      <th>var_8</th>\n",
       "      <th>var_9</th>\n",
       "      <th>...</th>\n",
       "      <th>var_190</th>\n",
       "      <th>var_191</th>\n",
       "      <th>var_192</th>\n",
       "      <th>var_193</th>\n",
       "      <th>var_194</th>\n",
       "      <th>var_195</th>\n",
       "      <th>var_196</th>\n",
       "      <th>var_197</th>\n",
       "      <th>var_198</th>\n",
       "      <th>var_199</th>\n",
       "    </tr>\n",
       "  </thead>\n",
       "  <tbody>\n",
       "    <tr>\n",
       "      <th>105800</th>\n",
       "      <td>7.1710</td>\n",
       "      <td>0.0780</td>\n",
       "      <td>9.7313</td>\n",
       "      <td>5.2754</td>\n",
       "      <td>8.4569</td>\n",
       "      <td>1.0961</td>\n",
       "      <td>5.6193</td>\n",
       "      <td>19.7863</td>\n",
       "      <td>-3.0315</td>\n",
       "      <td>6.8223</td>\n",
       "      <td>...</td>\n",
       "      <td>1.3701</td>\n",
       "      <td>9.9152</td>\n",
       "      <td>2.0668</td>\n",
       "      <td>5.3564</td>\n",
       "      <td>21.6815</td>\n",
       "      <td>-0.1577</td>\n",
       "      <td>-1.3003</td>\n",
       "      <td>8.4862</td>\n",
       "      <td>16.8159</td>\n",
       "      <td>-7.3853</td>\n",
       "    </tr>\n",
       "    <tr>\n",
       "      <th>27538</th>\n",
       "      <td>12.9988</td>\n",
       "      <td>-0.8167</td>\n",
       "      <td>9.0578</td>\n",
       "      <td>6.1068</td>\n",
       "      <td>9.0826</td>\n",
       "      <td>-20.3450</td>\n",
       "      <td>7.3668</td>\n",
       "      <td>20.5931</td>\n",
       "      <td>4.4952</td>\n",
       "      <td>8.3794</td>\n",
       "      <td>...</td>\n",
       "      <td>2.2635</td>\n",
       "      <td>9.9614</td>\n",
       "      <td>0.9975</td>\n",
       "      <td>4.2109</td>\n",
       "      <td>19.2522</td>\n",
       "      <td>-0.2888</td>\n",
       "      <td>2.2767</td>\n",
       "      <td>8.4979</td>\n",
       "      <td>13.6564</td>\n",
       "      <td>-1.1474</td>\n",
       "    </tr>\n",
       "    <tr>\n",
       "      <th>108979</th>\n",
       "      <td>11.2861</td>\n",
       "      <td>-0.2255</td>\n",
       "      <td>17.2522</td>\n",
       "      <td>5.8849</td>\n",
       "      <td>13.0078</td>\n",
       "      <td>4.0183</td>\n",
       "      <td>5.0971</td>\n",
       "      <td>11.4301</td>\n",
       "      <td>-1.7817</td>\n",
       "      <td>6.3523</td>\n",
       "      <td>...</td>\n",
       "      <td>7.1895</td>\n",
       "      <td>11.7965</td>\n",
       "      <td>2.2497</td>\n",
       "      <td>10.9765</td>\n",
       "      <td>18.8830</td>\n",
       "      <td>1.0117</td>\n",
       "      <td>1.8379</td>\n",
       "      <td>7.3530</td>\n",
       "      <td>13.5594</td>\n",
       "      <td>6.4416</td>\n",
       "    </tr>\n",
       "    <tr>\n",
       "      <th>184818</th>\n",
       "      <td>13.4434</td>\n",
       "      <td>-5.7222</td>\n",
       "      <td>13.4512</td>\n",
       "      <td>4.7605</td>\n",
       "      <td>14.5425</td>\n",
       "      <td>2.6660</td>\n",
       "      <td>5.8011</td>\n",
       "      <td>19.3957</td>\n",
       "      <td>1.4480</td>\n",
       "      <td>7.6016</td>\n",
       "      <td>...</td>\n",
       "      <td>-2.5342</td>\n",
       "      <td>6.7572</td>\n",
       "      <td>4.1626</td>\n",
       "      <td>1.5798</td>\n",
       "      <td>18.3637</td>\n",
       "      <td>1.7772</td>\n",
       "      <td>9.0057</td>\n",
       "      <td>8.5145</td>\n",
       "      <td>18.6113</td>\n",
       "      <td>3.9470</td>\n",
       "    </tr>\n",
       "    <tr>\n",
       "      <th>121763</th>\n",
       "      <td>7.3488</td>\n",
       "      <td>3.2396</td>\n",
       "      <td>12.8417</td>\n",
       "      <td>8.3421</td>\n",
       "      <td>12.0869</td>\n",
       "      <td>-0.3122</td>\n",
       "      <td>4.1239</td>\n",
       "      <td>11.7267</td>\n",
       "      <td>0.8601</td>\n",
       "      <td>9.4517</td>\n",
       "      <td>...</td>\n",
       "      <td>6.8424</td>\n",
       "      <td>3.1530</td>\n",
       "      <td>2.0189</td>\n",
       "      <td>3.3557</td>\n",
       "      <td>22.6439</td>\n",
       "      <td>0.2648</td>\n",
       "      <td>0.3030</td>\n",
       "      <td>8.0920</td>\n",
       "      <td>16.3242</td>\n",
       "      <td>-10.1387</td>\n",
       "    </tr>\n",
       "  </tbody>\n",
       "</table>\n",
       "<p>5 rows × 200 columns</p>\n",
       "</div>"
      ],
      "text/plain": [
       "          var_0   var_1    var_2   var_3    var_4    var_5   var_6    var_7  \\\n",
       "105800   7.1710  0.0780   9.7313  5.2754   8.4569   1.0961  5.6193  19.7863   \n",
       "27538   12.9988 -0.8167   9.0578  6.1068   9.0826 -20.3450  7.3668  20.5931   \n",
       "108979  11.2861 -0.2255  17.2522  5.8849  13.0078   4.0183  5.0971  11.4301   \n",
       "184818  13.4434 -5.7222  13.4512  4.7605  14.5425   2.6660  5.8011  19.3957   \n",
       "121763   7.3488  3.2396  12.8417  8.3421  12.0869  -0.3122  4.1239  11.7267   \n",
       "\n",
       "         var_8   var_9   ...     var_190  var_191  var_192  var_193  var_194  \\\n",
       "105800 -3.0315  6.8223   ...      1.3701   9.9152   2.0668   5.3564  21.6815   \n",
       "27538   4.4952  8.3794   ...      2.2635   9.9614   0.9975   4.2109  19.2522   \n",
       "108979 -1.7817  6.3523   ...      7.1895  11.7965   2.2497  10.9765  18.8830   \n",
       "184818  1.4480  7.6016   ...     -2.5342   6.7572   4.1626   1.5798  18.3637   \n",
       "121763  0.8601  9.4517   ...      6.8424   3.1530   2.0189   3.3557  22.6439   \n",
       "\n",
       "        var_195  var_196  var_197  var_198  var_199  \n",
       "105800  -0.1577  -1.3003   8.4862  16.8159  -7.3853  \n",
       "27538   -0.2888   2.2767   8.4979  13.6564  -1.1474  \n",
       "108979   1.0117   1.8379   7.3530  13.5594   6.4416  \n",
       "184818   1.7772   9.0057   8.5145  18.6113   3.9470  \n",
       "121763   0.2648   0.3030   8.0920  16.3242 -10.1387  \n",
       "\n",
       "[5 rows x 200 columns]"
      ]
     },
     "execution_count": 38,
     "metadata": {},
     "output_type": "execute_result"
    }
   ],
   "source": [
    "train_X.head"
   ]
  },
  {
   "cell_type": "code",
   "execution_count": 9,
   "metadata": {},
   "outputs": [],
   "source": []
  },
  {
   "cell_type": "code",
   "execution_count": 11,
   "metadata": {},
   "outputs": [],
   "source": []
  },
  {
   "cell_type": "code",
   "execution_count": 12,
   "metadata": {},
   "outputs": [],
   "source": []
  },
  {
   "cell_type": "code",
   "execution_count": 13,
   "metadata": {},
   "outputs": [
    {
     "ename": "TypeError",
     "evalue": "Wrong types for the arguments",
     "output_type": "error",
     "traceback": [
      "\u001b[0;31m---------------------------------------------------------------------------\u001b[0m",
      "\u001b[0;31mTypeError\u001b[0m                                 Traceback (most recent call last)",
      "\u001b[0;32m<ipython-input-13-e5f8cc35171d>\u001b[0m in \u001b[0;36m<module>\u001b[0;34m()\u001b[0m\n\u001b[0;32m----> 1\u001b[0;31m \u001b[0mmodel\u001b[0m \u001b[0;34m=\u001b[0m \u001b[0msvm_train\u001b[0m\u001b[0;34m(\u001b[0m\u001b[0mtrain_X\u001b[0m\u001b[0;34m,\u001b[0m \u001b[0mtrain_y\u001b[0m\u001b[0;34m)\u001b[0m\u001b[0;34m\u001b[0m\u001b[0m\n\u001b[0m\u001b[1;32m      2\u001b[0m \u001b[0;34m\u001b[0m\u001b[0m\n\u001b[1;32m      3\u001b[0m \u001b[0mp_label\u001b[0m\u001b[0;34m,\u001b[0m \u001b[0mp_acc\u001b[0m\u001b[0;34m,\u001b[0m \u001b[0mp_val\u001b[0m \u001b[0;34m=\u001b[0m \u001b[0msvm_predict\u001b[0m\u001b[0;34m(\u001b[0m\u001b[0mval_X\u001b[0m\u001b[0;34m,\u001b[0m \u001b[0mval_y\u001b[0m\u001b[0;34m,\u001b[0m \u001b[0mmodel\u001b[0m\u001b[0;34m)\u001b[0m\u001b[0;34m\u001b[0m\u001b[0m\n",
      "\u001b[0;32m/Library/Frameworks/Python.framework/Versions/3.6/lib/python3.6/site-packages/libsvm/svmutil.py\u001b[0m in \u001b[0;36msvm_train\u001b[0;34m(arg1, arg2, arg3)\u001b[0m\n\u001b[1;32m     98\u001b[0m                         \u001b[0mparam\u001b[0m \u001b[0;34m=\u001b[0m \u001b[0msvm_parameter\u001b[0m\u001b[0;34m(\u001b[0m\u001b[0marg2\u001b[0m\u001b[0;34m)\u001b[0m\u001b[0;34m\u001b[0m\u001b[0m\n\u001b[1;32m     99\u001b[0m         \u001b[0;32mif\u001b[0m \u001b[0mprob\u001b[0m \u001b[0;34m==\u001b[0m \u001b[0;32mNone\u001b[0m \u001b[0;32mor\u001b[0m \u001b[0mparam\u001b[0m \u001b[0;34m==\u001b[0m \u001b[0;32mNone\u001b[0m\u001b[0;34m:\u001b[0m\u001b[0;34m\u001b[0m\u001b[0m\n\u001b[0;32m--> 100\u001b[0;31m                 \u001b[0;32mraise\u001b[0m \u001b[0mTypeError\u001b[0m\u001b[0;34m(\u001b[0m\u001b[0;34m\"Wrong types for the arguments\"\u001b[0m\u001b[0;34m)\u001b[0m\u001b[0;34m\u001b[0m\u001b[0m\n\u001b[0m\u001b[1;32m    101\u001b[0m \u001b[0;34m\u001b[0m\u001b[0m\n\u001b[1;32m    102\u001b[0m         \u001b[0;32mif\u001b[0m \u001b[0mparam\u001b[0m\u001b[0;34m.\u001b[0m\u001b[0mkernel_type\u001b[0m \u001b[0;34m==\u001b[0m \u001b[0mPRECOMPUTED\u001b[0m\u001b[0;34m:\u001b[0m\u001b[0;34m\u001b[0m\u001b[0m\n",
      "\u001b[0;31mTypeError\u001b[0m: Wrong types for the arguments"
     ]
    }
   ],
   "source": [
    "p_label, p_acc, p_val = svm_predict(val_X, val_y, model)\n"
   ]
  },
  {
   "cell_type": "code",
   "execution_count": null,
   "metadata": {},
   "outputs": [],
   "source": [
    "model = svm.SVC(kernel='linear', C=1, gamma=1) \n",
    "# there is various option associated with it, like changing kernel, gamma and C value. Will discuss more # about it in next section.Train the model using the training sets and check score\n",
    "model.fit(train_X, train_y)\n",
    "y_pred= model.predict(val_X)\n"
   ]
  },
  {
   "cell_type": "code",
   "execution_count": 2,
   "metadata": {},
   "outputs": [],
   "source": [
    "from sklearn.metrics import roc_auc_score\n",
    "auc_score1 = roc_auc_score(val_y, y_pred)"
   ]
  },
  {
   "cell_type": "code",
   "execution_count": null,
   "metadata": {},
   "outputs": [],
   "source": []
  }
 ],
 "metadata": {
  "kernelspec": {
   "display_name": "Python 3",
   "language": "python",
   "name": "python3"
  },
  "language_info": {
   "codemirror_mode": {
    "name": "ipython",
    "version": 3
   },
   "file_extension": ".py",
   "mimetype": "text/x-python",
   "name": "python",
   "nbconvert_exporter": "python",
   "pygments_lexer": "ipython3",
   "version": "3.6.3"
  }
 },
 "nbformat": 4,
 "nbformat_minor": 2
}
