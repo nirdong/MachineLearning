{
 "cells": [
  {
   "cell_type": "code",
   "execution_count": 221,
   "metadata": {},
   "outputs": [],
   "source": [
    "import numpy as np\n",
    "import emo_utils\n",
    "import emoji\n",
    "import matplotlib.pyplot as plt\n",
    "\n",
    "%matplotlib inline"
   ]
  },
  {
   "cell_type": "code",
   "execution_count": 222,
   "metadata": {},
   "outputs": [],
   "source": [
    "X_train, Y_train = emo_utils.read_csv('/Users/Moli/Documents/MaterialsML/deeplearning.ai-master/02-课后作业/05-第五课 序列模型/02-第五课第二周作业/Emojify/data/train_emoji.csv')\n",
    "X_test, Y_test = emo_utils.read_csv('/Users/Moli/Documents/MaterialsML/deeplearning.ai-master/02-课后作业/05-第五课 序列模型/02-第五课第二周作业/Emojify/data/test_emoji.csv')\n",
    "\n",
    "maxLen = len(max(X_train, key=len).split())"
   ]
  },
  {
   "cell_type": "code",
   "execution_count": 223,
   "metadata": {},
   "outputs": [],
   "source": [
    "#X_train"
   ]
  },
  {
   "cell_type": "code",
   "execution_count": 224,
   "metadata": {},
   "outputs": [
    {
     "name": "stdout",
     "output_type": "stream",
     "text": [
      "Miss you so much ❤️\n"
     ]
    }
   ],
   "source": [
    "index  = 3\n",
    "print(X_train[index], emo_utils.label_to_emoji(Y_train[index]))"
   ]
  },
  {
   "cell_type": "code",
   "execution_count": 225,
   "metadata": {},
   "outputs": [],
   "source": [
    "Y_oh_train = emo_utils.convert_to_one_hot(Y_train, C=5)\n",
    "Y_oh_test = emo_utils.convert_to_one_hot(Y_test, C=5)"
   ]
  },
  {
   "cell_type": "code",
   "execution_count": 226,
   "metadata": {},
   "outputs": [],
   "source": [
    "#Y_oh_train"
   ]
  },
  {
   "cell_type": "code",
   "execution_count": 227,
   "metadata": {},
   "outputs": [],
   "source": [
    "#np.eye(3)[2]"
   ]
  },
  {
   "cell_type": "code",
   "execution_count": 228,
   "metadata": {},
   "outputs": [],
   "source": [
    "word_to_index, index_to_word, word_to_vec_map = emo_utils.read_glove_vecs('/Users/Moli/Documents/MaterialsML/deeplearning.ai-master/02-课后作业/05-第五课 序列模型/02-第五课第二周作业/Emojify/data/glove.6B.50d.txt')"
   ]
  },
  {
   "cell_type": "code",
   "execution_count": 229,
   "metadata": {},
   "outputs": [
    {
     "name": "stdout",
     "output_type": "stream",
     "text": [
      "单词cucumber对应的索引是：113317\n",
      "索引113317对应的单词是：cucumber\n"
     ]
    }
   ],
   "source": [
    "word = \"cucumber\"\n",
    "index = 113317\n",
    "print(\"单词{0}对应的索引是：{1}\".format(word, word_to_index[word]))\n",
    "print(\"索引{0}对应的单词是：{1}\".format(index, index_to_word[index]))"
   ]
  },
  {
   "cell_type": "code",
   "execution_count": 230,
   "metadata": {},
   "outputs": [],
   "source": [
    "def sentence_to_avg(sentence, word_to_vec_map):\n",
    "    \"\"\"\n",
    "    将句子转换为单词列表，提取其GloVe向量，然后将其平均。\n",
    "    \n",
    "    参数：\n",
    "        sentence -- 字符串类型，从X中获取的样本。\n",
    "        word_to_vec_map -- 字典类型，单词映射到50维的向量的字典\n",
    "        \n",
    "    返回：\n",
    "        avg -- 对句子的均值编码，维度为(50,)\n",
    "    \"\"\"\n",
    "    \n",
    "    # 第一步：分割句子，转换为列表。\n",
    "    words = sentence.lower().split()\n",
    "    \n",
    "    # 初始化均值词向量\n",
    "    avg = np.zeros(50,)\n",
    "    \n",
    "    # 第二步：对词向量取平均。\n",
    "    for w in words:\n",
    "        avg += word_to_vec_map[w]\n",
    "    avg = np.divide(avg, len(words))\n",
    "    \n",
    "    return avg"
   ]
  },
  {
   "cell_type": "code",
   "execution_count": 231,
   "metadata": {},
   "outputs": [
    {
     "name": "stdout",
     "output_type": "stream",
     "text": [
      "avg =  [-0.008005    0.56370833 -0.50427333  0.258865    0.55131103  0.03104983\n",
      " -0.21013718  0.16893933 -0.09590267  0.141784   -0.15708967  0.18525867\n",
      "  0.6495785   0.38371117  0.21102167  0.11301667  0.02613967  0.26037767\n",
      "  0.05820667 -0.01578167 -0.12078833 -0.02471267  0.4128455   0.5152061\n",
      "  0.38756167 -0.898661   -0.535145    0.33501167  0.68806933 -0.2156265\n",
      "  1.797155    0.10476933 -0.36775333  0.750785    0.10282583  0.348925\n",
      " -0.27262833  0.66768    -0.10706167 -0.283635    0.59580117  0.28747333\n",
      " -0.3366635   0.23393817  0.34349183  0.178405    0.1166155  -0.076433\n",
      "  0.1445417   0.09808667]\n"
     ]
    }
   ],
   "source": [
    "avg = sentence_to_avg(\"Morrocan couscous is my favorite dish\", word_to_vec_map)\n",
    "print(\"avg = \", avg)"
   ]
  },
  {
   "cell_type": "code",
   "execution_count": 232,
   "metadata": {},
   "outputs": [],
   "source": [
    "def model(X, Y, word_to_vec_map, learning_rate=0.01, num_iterations=400):\n",
    "    \"\"\"\n",
    "    在numpy中训练词向量模型。\n",
    "    \n",
    "    参数：\n",
    "        X -- 输入的字符串类型的数据，维度为(m, 1)。\n",
    "        Y -- 对应的标签，0-7的数组，维度为(m, 1)。\n",
    "        word_to_vec_map -- 字典类型的单词到50维词向量的映射。\n",
    "        learning_rate -- 学习率.\n",
    "        num_iterations -- 迭代次数。\n",
    "        \n",
    "    返回：\n",
    "        pred -- 预测的向量，维度为(m, 1)。\n",
    "        W -- 权重参数，维度为(n_y, n_h)。\n",
    "        b -- 偏置参数，维度为(n_y,)\n",
    "    \"\"\"\n",
    "    np.random.seed(1)\n",
    "    \n",
    "    # 定义训练数量\n",
    "    m = Y.shape[0]\n",
    "    n_y = 5\n",
    "    n_h = 50\n",
    "    \n",
    "    # 使用Xavier初始化参数\n",
    "    W = np.random.randn(n_y, n_h) / np.sqrt(n_h)\n",
    "    b = np.zeros((n_y,))\n",
    "    \n",
    "    # 将Y转换成独热编码\n",
    "    Y_oh = emo_utils.convert_to_one_hot(Y, C=n_y)\n",
    "    \n",
    "    # 优化循环\n",
    "    for t in range(num_iterations):\n",
    "        for i in range(m):\n",
    "            # 获取第i个训练样本的均值\n",
    "            avg = sentence_to_avg(X[i], word_to_vec_map)\n",
    "            \n",
    "            # 前向传播\n",
    "            z = np.dot(W, avg) + b\n",
    "            a = emo_utils.softmax(z)\n",
    "            \n",
    "            # 计算第i个训练的损失\n",
    "            cost = -np.sum(Y_oh[i]*np.log(a))\n",
    "            \n",
    "            # 计算梯度\n",
    "            dz = a - Y_oh[i]\n",
    "            dW = np.dot(dz.reshape(n_y,1), avg.reshape(1, n_h))\n",
    "            db = dz\n",
    "            \n",
    "            # 更新参数\n",
    "            W = W - learning_rate * dW\n",
    "            b = b - learning_rate * db\n",
    "        if t % 100 == 0:\n",
    "            print(\"第{t}轮，损失为{cost}\".format(t=t,cost=cost))\n",
    "            pred = emo_utils.predict(X, Y, W, b, word_to_vec_map)\n",
    "            \n",
    "    return pred, W, b\n"
   ]
  },
  {
   "cell_type": "code",
   "execution_count": 233,
   "metadata": {},
   "outputs": [
    {
     "name": "stdout",
     "output_type": "stream",
     "text": [
      "第0轮，损失为1.9520498812810072\n",
      "Accuracy: 0.3484848484848485\n",
      "第100轮，损失为0.07971818726014807\n",
      "Accuracy: 0.9318181818181818\n",
      "第200轮，损失为0.04456369243681402\n",
      "Accuracy: 0.9545454545454546\n",
      "第300轮，损失为0.03432267378786059\n",
      "Accuracy: 0.9696969696969697\n"
     ]
    }
   ],
   "source": [
    "pred, W, b = model(X_train, Y_train, word_to_vec_map)\n"
   ]
  },
  {
   "cell_type": "code",
   "execution_count": 234,
   "metadata": {},
   "outputs": [
    {
     "name": "stdout",
     "output_type": "stream",
     "text": [
      "=====训练集====\n",
      "Accuracy: 0.9772727272727273\n",
      "=====测试集====\n",
      "Accuracy: 0.625\n"
     ]
    }
   ],
   "source": [
    "print(\"=====训练集====\")\n",
    "pred_train = emo_utils.predict(X_train, Y_train, W, b, word_to_vec_map)\n",
    "print(\"=====测试集====\")\n",
    "pred_test = emo_utils.predict(X_test, Y_test, W, b, word_to_vec_map)\n"
   ]
  },
  {
   "cell_type": "code",
   "execution_count": 235,
   "metadata": {},
   "outputs": [],
   "source": [
    "import numpy as np\n",
    "import keras\n",
    "from keras.models import Model\n",
    "from keras.layers import Dense, Input, Dropout, LSTM, Activation\n",
    "from keras.layers.embeddings import Embedding\n",
    "from keras.preprocessing import sequence\n",
    "from keras.initializers import glorot_uniform"
   ]
  },
  {
   "cell_type": "code",
   "execution_count": 236,
   "metadata": {},
   "outputs": [],
   "source": [
    "def sentences_to_indices(X, word_to_index, max_len):\n",
    "    \"\"\"\n",
    "    输入的是X（字符串类型的句子的数组），再转化为对应的句子列表，\n",
    "    输出的是能够让Embedding()函数接受的列表或矩阵（参见图4）。\n",
    "    \n",
    "    参数：\n",
    "        X -- 句子数组，维度为(m, 1)\n",
    "        word_to_index -- 字典类型的单词到索引的映射\n",
    "        max_len -- 最大句子的长度，数据集中所有的句子的长度都不会超过它。\n",
    "        \n",
    "    返回：\n",
    "        X_indices -- 对应于X中的单词索引数组，维度为(m, max_len)\n",
    "    \"\"\"\n",
    "    \n",
    "    m = X.shape[0]  # 训练集数量\n",
    "    # 使用0初始化X_indices\n",
    "    X_indices = np.zeros((m, max_len))\n",
    "    \n",
    "    for i in range(m):\n",
    "        # 将第i个居住转化为小写并按单词分开。\n",
    "        sentences_words = X[i].lower().split()\n",
    "        \n",
    "        # 初始化j为0\n",
    "        j = 0\n",
    "        \n",
    "        # 遍历这个单词列表\n",
    "        for w in sentences_words:\n",
    "            # 将X_indices的第(i, j)号元素为对应的单词索引\n",
    "            X_indices[i, j] = word_to_index[w]\n",
    "            \n",
    "            j += 1\n",
    "            \n",
    "    return X_indices"
   ]
  },
  {
   "cell_type": "code",
   "execution_count": 237,
   "metadata": {},
   "outputs": [
    {
     "name": "stdout",
     "output_type": "stream",
     "text": [
      "X1 = ['funny lol' 'lets play baseball' 'food is ready for you']\n",
      "X1_indices = [[155345. 225122.      0.      0.      0.]\n",
      " [220930. 286375.  69714.      0.      0.]\n",
      " [151204. 192973. 302254. 151349. 394475.]]\n"
     ]
    }
   ],
   "source": [
    "X1 = np.array([\"funny lol\", \"lets play baseball\", \"food is ready for you\"])\n",
    "X1_indices = sentences_to_indices(X1,word_to_index, max_len = 5)\n",
    "print(\"X1 =\", X1)\n",
    "print(\"X1_indices =\", X1_indices)"
   ]
  },
  {
   "cell_type": "code",
   "execution_count": 238,
   "metadata": {},
   "outputs": [],
   "source": [
    "def pretrained_embedding_layer(word_to_vec_map, word_to_index):\n",
    "    \"\"\"\n",
    "    创建Keras Embedding()层，加载已经训练好了的50维GloVe向量\n",
    "    \n",
    "    参数：\n",
    "        word_to_vec_map -- 字典类型的单词与词嵌入的映射\n",
    "        word_to_index -- 字典类型的单词到词汇表（400,001个单词）的索引的映射。\n",
    "        \n",
    "    返回：\n",
    "        embedding_layer() -- 训练好了的Keras的实体层。\n",
    "    \"\"\"\n",
    "    vocab_len = len(word_to_index) + 1\n",
    "    emb_dim = word_to_vec_map[\"cucumber\"].shape[0]\n",
    "    \n",
    "    # 初始化嵌入矩阵\n",
    "    emb_matrix = np.zeros((vocab_len, emb_dim))\n",
    "    \n",
    "    # 将嵌入矩阵的每行的“index”设置为词汇“index”的词向量表示\n",
    "    for word, index in word_to_index.items():\n",
    "        emb_matrix[index, :] = word_to_vec_map[word]\n",
    "    \n",
    "    # 定义Keras的embbeding层\n",
    "    embedding_layer = Embedding(vocab_len, emb_dim, trainable=False)\n",
    "    \n",
    "    # 构建embedding层。\n",
    "    embedding_layer.build((None,))\n",
    "    \n",
    "    # 将嵌入层的权重设置为嵌入矩阵。\n",
    "    embedding_layer.set_weights([emb_matrix])\n",
    "    \n",
    "    return embedding_layer"
   ]
  },
  {
   "cell_type": "code",
   "execution_count": 239,
   "metadata": {},
   "outputs": [
    {
     "data": {
      "text/plain": [
       "113317"
      ]
     },
     "execution_count": 239,
     "metadata": {},
     "output_type": "execute_result"
    }
   ],
   "source": [
    "word_to_index['cucumber']"
   ]
  },
  {
   "cell_type": "code",
   "execution_count": 240,
   "metadata": {},
   "outputs": [
    {
     "data": {
      "text/plain": [
       "400000"
      ]
     },
     "execution_count": 240,
     "metadata": {},
     "output_type": "execute_result"
    }
   ],
   "source": [
    "len(word_to_index)"
   ]
  },
  {
   "cell_type": "code",
   "execution_count": 241,
   "metadata": {},
   "outputs": [
    {
     "data": {
      "text/plain": [
       "dict"
      ]
     },
     "execution_count": 241,
     "metadata": {},
     "output_type": "execute_result"
    }
   ],
   "source": [
    "type(word_to_index)"
   ]
  },
  {
   "cell_type": "code",
   "execution_count": 242,
   "metadata": {},
   "outputs": [
    {
     "name": "stdout",
     "output_type": "stream",
     "text": [
      "weights[0][1][3] = -0.3403\n"
     ]
    }
   ],
   "source": [
    "embedding_layer = pretrained_embedding_layer(word_to_vec_map, word_to_index)\n",
    "print(\"weights[0][1][3] =\", embedding_layer.get_weights()[0][1][3])\n",
    "#word_to_index"
   ]
  },
  {
   "cell_type": "code",
   "execution_count": 243,
   "metadata": {},
   "outputs": [],
   "source": [
    "#embedding_layer.get_weights()[1]"
   ]
  },
  {
   "cell_type": "code",
   "execution_count": 244,
   "metadata": {},
   "outputs": [
    {
     "data": {
      "text/plain": [
       "50"
      ]
     },
     "execution_count": 244,
     "metadata": {},
     "output_type": "execute_result"
    }
   ],
   "source": [
    "word_to_vec_map[\"cucumber\"].shape[0]"
   ]
  },
  {
   "cell_type": "code",
   "execution_count": 245,
   "metadata": {},
   "outputs": [
    {
     "data": {
      "text/plain": [
       "<keras.layers.embeddings.Embedding at 0x15b848c18>"
      ]
     },
     "execution_count": 245,
     "metadata": {},
     "output_type": "execute_result"
    }
   ],
   "source": [
    "embedding_layer"
   ]
  },
  {
   "cell_type": "code",
   "execution_count": 246,
   "metadata": {},
   "outputs": [],
   "source": [
    "def Emojify_V2(input_shape, word_to_vec_map, word_to_index):\n",
    "    \"\"\"\n",
    "    Function creating the Emojify-v2 model's graph.\n",
    "\n",
    "    Arguments:\n",
    "    input_shape -- shape of the input, usually (max_len,)\n",
    "    word_to_vec_map -- dictionary mapping every word in a vocabulary into its 50-dimensional vector representation\n",
    "    word_to_index -- dictionary mapping from words to their indices in the vocabulary (400,001 words)\n",
    "\n",
    "    Returns:\n",
    "    model -- a model instance in Keras\n",
    "    \"\"\"\n",
    "\n",
    "    ### START CODE HERE ###\n",
    "    # Define sentence_indices as the input of the graph, it should be of shape input_shape and dtype 'int32' (as it contains indices).\n",
    "    sentence_indices = Input(shape = input_shape, dtype = 'int32')\n",
    "\n",
    "    # Create the embedding layer pretrained with GloVe Vectors (鈮? line)\n",
    "    embedding_layer = pretrained_embedding_layer(word_to_vec_map, word_to_index)\n",
    "\n",
    "    # Propagate sentence_indices through your embedding layer, you get back the embeddings\n",
    "    embeddings = embedding_layer(sentence_indices)   \n",
    "\n",
    "    # Propagate the embeddings through an LSTM layer with 128-dimensional hidden state\n",
    "    # Be careful, the returned output should be a batch of sequences.\n",
    "    X = LSTM(128, return_sequences=True)(embeddings)\n",
    "    # Add dropout with a probability of 0.5\n",
    "    X = Dropout(0.5)(X)\n",
    "    # Propagate X trough another LSTM layer with 128-dimensional hidden state\n",
    "    # Be careful, the returned output should be a single hidden state, not a batch of sequences.\n",
    "    X = LSTM(128, return_sequences=True)(X)\n",
    "    # Add dropout with a probability of 0.5\n",
    "    X = Dropout(0.5)(X)\n",
    "    X = LSTM(128, return_sequences=False)(X)\n",
    "    # Add dropout with a probability of 0.5\n",
    "    X = Dropout(0.5)(X)\n",
    "    # Propagate X through a Dense layer with softmax activation to get back a batch of 5-dimensional vectors.\n",
    "    X = Dense(5, activation='softmax')(X)\n",
    "    # Add a softmax activation\n",
    "    X = Activation('softmax')(X)\n",
    "\n",
    "    # Create Model instance which converts sentence_indices into X.\n",
    "    model = Model(inputs=sentence_indices ,outputs=X)\n",
    "\n",
    "    ### END CODE HERE ###\n",
    "\n",
    "    return model\n"
   ]
  },
  {
   "cell_type": "code",
   "execution_count": 247,
   "metadata": {},
   "outputs": [
    {
     "name": "stdout",
     "output_type": "stream",
     "text": [
      "_________________________________________________________________\n",
      "Layer (type)                 Output Shape              Param #   \n",
      "=================================================================\n",
      "input_12 (InputLayer)        (None, 10)                0         \n",
      "_________________________________________________________________\n",
      "embedding_17 (Embedding)     (None, 10, 50)            20000050  \n",
      "_________________________________________________________________\n",
      "lstm_22 (LSTM)               (None, 10, 128)           91648     \n",
      "_________________________________________________________________\n",
      "dropout_21 (Dropout)         (None, 10, 128)           0         \n",
      "_________________________________________________________________\n",
      "lstm_23 (LSTM)               (None, 10, 128)           131584    \n",
      "_________________________________________________________________\n",
      "dropout_22 (Dropout)         (None, 10, 128)           0         \n",
      "_________________________________________________________________\n",
      "lstm_24 (LSTM)               (None, 128)               131584    \n",
      "_________________________________________________________________\n",
      "dropout_23 (Dropout)         (None, 128)               0         \n",
      "_________________________________________________________________\n",
      "dense_11 (Dense)             (None, 5)                 645       \n",
      "_________________________________________________________________\n",
      "activation_11 (Activation)   (None, 5)                 0         \n",
      "=================================================================\n",
      "Total params: 20,355,511\n",
      "Trainable params: 355,461\n",
      "Non-trainable params: 20,000,050\n",
      "_________________________________________________________________\n"
     ]
    }
   ],
   "source": [
    "model = Emojify_V2((10,), word_to_vec_map, word_to_index)\n",
    "model.summary()"
   ]
  },
  {
   "cell_type": "code",
   "execution_count": 248,
   "metadata": {},
   "outputs": [],
   "source": [
    "maxLen = len(max(X_train, key=len).split())"
   ]
  },
  {
   "cell_type": "code",
   "execution_count": 249,
   "metadata": {},
   "outputs": [
    {
     "data": {
      "text/plain": [
       "10"
      ]
     },
     "execution_count": 249,
     "metadata": {},
     "output_type": "execute_result"
    }
   ],
   "source": [
    "maxLen"
   ]
  },
  {
   "cell_type": "code",
   "execution_count": 250,
   "metadata": {},
   "outputs": [],
   "source": [
    "model.compile(loss='categorical_crossentropy', optimizer='adam', metrics=['accuracy'])\n"
   ]
  },
  {
   "cell_type": "code",
   "execution_count": 251,
   "metadata": {},
   "outputs": [],
   "source": [
    "X_train_indices = sentences_to_indices(X_train, word_to_index, 10)\n",
    "Y_train_oh = emo_utils.convert_to_one_hot(Y_train, C = 5)\n"
   ]
  },
  {
   "cell_type": "code",
   "execution_count": 252,
   "metadata": {},
   "outputs": [
    {
     "name": "stdout",
     "output_type": "stream",
     "text": [
      "Epoch 1/100\n",
      "132/132 [==============================] - 5s 40ms/step - loss: 1.6048 - acc: 0.2121\n",
      "Epoch 2/100\n",
      "132/132 [==============================] - 0s 2ms/step - loss: 1.5868 - acc: 0.3030\n",
      "Epoch 3/100\n",
      "132/132 [==============================] - 0s 2ms/step - loss: 1.5731 - acc: 0.2652\n",
      "Epoch 4/100\n",
      "132/132 [==============================] - 0s 2ms/step - loss: 1.5542 - acc: 0.3485\n",
      "Epoch 5/100\n",
      "132/132 [==============================] - 0s 2ms/step - loss: 1.5457 - acc: 0.3106\n",
      "Epoch 6/100\n",
      "132/132 [==============================] - 0s 2ms/step - loss: 1.5085 - acc: 0.3636\n",
      "Epoch 7/100\n",
      "132/132 [==============================] - 0s 2ms/step - loss: 1.5095 - acc: 0.3712\n",
      "Epoch 8/100\n",
      "132/132 [==============================] - 0s 2ms/step - loss: 1.4713 - acc: 0.5455\n",
      "Epoch 9/100\n",
      "132/132 [==============================] - 0s 2ms/step - loss: 1.4090 - acc: 0.5227\n",
      "Epoch 10/100\n",
      "132/132 [==============================] - 0s 2ms/step - loss: 1.3603 - acc: 0.5530\n",
      "Epoch 11/100\n",
      "132/132 [==============================] - 0s 2ms/step - loss: 1.3555 - acc: 0.6288\n",
      "Epoch 12/100\n",
      "132/132 [==============================] - 0s 2ms/step - loss: 1.3523 - acc: 0.5985\n",
      "Epoch 13/100\n",
      "132/132 [==============================] - 0s 2ms/step - loss: 1.2701 - acc: 0.6591\n",
      "Epoch 14/100\n",
      "132/132 [==============================] - 0s 2ms/step - loss: 1.2816 - acc: 0.6136\n",
      "Epoch 15/100\n",
      "132/132 [==============================] - 0s 2ms/step - loss: 1.2498 - acc: 0.6894\n",
      "Epoch 16/100\n",
      "132/132 [==============================] - 0s 2ms/step - loss: 1.2177 - acc: 0.7197\n",
      "Epoch 17/100\n",
      "132/132 [==============================] - 0s 2ms/step - loss: 1.1582 - acc: 0.8030\n",
      "Epoch 18/100\n",
      "132/132 [==============================] - 0s 2ms/step - loss: 1.1298 - acc: 0.7879\n",
      "Epoch 19/100\n",
      "132/132 [==============================] - 0s 2ms/step - loss: 1.0997 - acc: 0.8182\n",
      "Epoch 20/100\n",
      "132/132 [==============================] - 0s 2ms/step - loss: 1.0839 - acc: 0.8333\n",
      "Epoch 21/100\n",
      "132/132 [==============================] - 0s 2ms/step - loss: 1.1242 - acc: 0.7955\n",
      "Epoch 22/100\n",
      "132/132 [==============================] - 0s 2ms/step - loss: 1.1082 - acc: 0.8106\n",
      "Epoch 23/100\n",
      "132/132 [==============================] - 0s 2ms/step - loss: 1.1773 - acc: 0.7273\n",
      "Epoch 24/100\n",
      "132/132 [==============================] - 0s 3ms/step - loss: 1.1890 - acc: 0.7197\n",
      "Epoch 25/100\n",
      "132/132 [==============================] - 0s 2ms/step - loss: 1.1358 - acc: 0.7652\n",
      "Epoch 26/100\n",
      "132/132 [==============================] - 0s 2ms/step - loss: 1.1086 - acc: 0.8030\n",
      "Epoch 27/100\n",
      "132/132 [==============================] - 0s 2ms/step - loss: 1.0978 - acc: 0.8106\n",
      "Epoch 28/100\n",
      "132/132 [==============================] - 0s 3ms/step - loss: 1.0626 - acc: 0.8485\n",
      "Epoch 29/100\n",
      "132/132 [==============================] - 0s 3ms/step - loss: 1.0329 - acc: 0.8788\n",
      "Epoch 30/100\n",
      "132/132 [==============================] - 0s 2ms/step - loss: 1.0227 - acc: 0.8864\n",
      "Epoch 31/100\n",
      "132/132 [==============================] - 0s 2ms/step - loss: 1.0122 - acc: 0.8939\n",
      "Epoch 32/100\n",
      "132/132 [==============================] - 0s 2ms/step - loss: 1.0204 - acc: 0.8788\n",
      "Epoch 33/100\n",
      "132/132 [==============================] - 0s 2ms/step - loss: 1.0443 - acc: 0.8561\n",
      "Epoch 34/100\n",
      "132/132 [==============================] - 0s 2ms/step - loss: 1.0252 - acc: 0.8864\n",
      "Epoch 35/100\n",
      "132/132 [==============================] - 0s 2ms/step - loss: 1.0342 - acc: 0.8712\n",
      "Epoch 36/100\n",
      "132/132 [==============================] - 0s 2ms/step - loss: 1.0058 - acc: 0.9015\n",
      "Epoch 37/100\n",
      "132/132 [==============================] - 0s 2ms/step - loss: 1.0546 - acc: 0.8561\n",
      "Epoch 38/100\n",
      "132/132 [==============================] - 0s 3ms/step - loss: 1.0400 - acc: 0.8561\n",
      "Epoch 39/100\n",
      "132/132 [==============================] - 0s 2ms/step - loss: 1.0258 - acc: 0.8788\n",
      "Epoch 40/100\n",
      "132/132 [==============================] - 0s 2ms/step - loss: 1.0097 - acc: 0.8939\n",
      "Epoch 41/100\n",
      "132/132 [==============================] - 0s 2ms/step - loss: 1.0000 - acc: 0.9167\n",
      "Epoch 42/100\n",
      "132/132 [==============================] - 0s 3ms/step - loss: 1.0227 - acc: 0.8864\n",
      "Epoch 43/100\n",
      "132/132 [==============================] - 0s 2ms/step - loss: 1.0064 - acc: 0.9015\n",
      "Epoch 44/100\n",
      "132/132 [==============================] - 0s 2ms/step - loss: 0.9865 - acc: 0.9242\n",
      "Epoch 45/100\n",
      "132/132 [==============================] - 0s 2ms/step - loss: 0.9762 - acc: 0.9318\n",
      "Epoch 46/100\n",
      "132/132 [==============================] - 0s 2ms/step - loss: 0.9804 - acc: 0.9242\n",
      "Epoch 47/100\n",
      "132/132 [==============================] - 0s 3ms/step - loss: 0.9809 - acc: 0.9242\n",
      "Epoch 48/100\n",
      "132/132 [==============================] - 0s 3ms/step - loss: 0.9672 - acc: 0.9318\n",
      "Epoch 49/100\n",
      "132/132 [==============================] - 0s 3ms/step - loss: 0.9740 - acc: 0.9318\n",
      "Epoch 50/100\n",
      "132/132 [==============================] - 0s 3ms/step - loss: 0.9762 - acc: 0.9318\n",
      "Epoch 51/100\n",
      "132/132 [==============================] - 0s 2ms/step - loss: 0.9936 - acc: 0.9167\n",
      "Epoch 52/100\n",
      "132/132 [==============================] - 0s 2ms/step - loss: 0.9847 - acc: 0.9242\n",
      "Epoch 53/100\n",
      "132/132 [==============================] - 0s 2ms/step - loss: 0.9618 - acc: 0.9470\n",
      "Epoch 54/100\n",
      "132/132 [==============================] - 0s 2ms/step - loss: 0.9752 - acc: 0.9318\n",
      "Epoch 55/100\n",
      "132/132 [==============================] - 0s 2ms/step - loss: 0.9632 - acc: 0.9394\n",
      "Epoch 56/100\n",
      "132/132 [==============================] - 0s 3ms/step - loss: 0.9841 - acc: 0.9242\n",
      "Epoch 57/100\n",
      "132/132 [==============================] - 0s 2ms/step - loss: 0.9870 - acc: 0.9242\n",
      "Epoch 58/100\n",
      "132/132 [==============================] - 0s 2ms/step - loss: 0.9774 - acc: 0.9318\n",
      "Epoch 59/100\n",
      "132/132 [==============================] - 0s 2ms/step - loss: 1.0162 - acc: 0.8939\n",
      "Epoch 60/100\n",
      "132/132 [==============================] - 0s 2ms/step - loss: 0.9994 - acc: 0.9091\n",
      "Epoch 61/100\n",
      "132/132 [==============================] - 0s 2ms/step - loss: 0.9985 - acc: 0.9091\n",
      "Epoch 62/100\n",
      "132/132 [==============================] - 0s 3ms/step - loss: 1.0158 - acc: 0.8939\n",
      "Epoch 63/100\n",
      "132/132 [==============================] - 0s 2ms/step - loss: 0.9840 - acc: 0.9242\n",
      "Epoch 64/100\n",
      "132/132 [==============================] - 0s 2ms/step - loss: 0.9712 - acc: 0.9318\n",
      "Epoch 65/100\n",
      "132/132 [==============================] - 0s 3ms/step - loss: 0.9659 - acc: 0.9394\n",
      "Epoch 66/100\n",
      "132/132 [==============================] - 0s 3ms/step - loss: 0.9889 - acc: 0.9242\n",
      "Epoch 67/100\n",
      "132/132 [==============================] - 0s 2ms/step - loss: 0.9830 - acc: 0.9167\n",
      "Epoch 68/100\n",
      "132/132 [==============================] - 0s 2ms/step - loss: 1.0445 - acc: 0.8561\n",
      "Epoch 69/100\n",
      "132/132 [==============================] - 0s 2ms/step - loss: 0.9967 - acc: 0.9091\n",
      "Epoch 70/100\n",
      "132/132 [==============================] - 0s 2ms/step - loss: 0.9773 - acc: 0.9318\n",
      "Epoch 71/100\n",
      "132/132 [==============================] - 0s 2ms/step - loss: 0.9700 - acc: 0.9318\n",
      "Epoch 72/100\n",
      "132/132 [==============================] - 0s 2ms/step - loss: 0.9602 - acc: 0.9470\n",
      "Epoch 73/100\n",
      "132/132 [==============================] - 0s 2ms/step - loss: 0.9779 - acc: 0.9318\n",
      "Epoch 74/100\n",
      "132/132 [==============================] - 0s 3ms/step - loss: 1.0153 - acc: 0.8864\n",
      "Epoch 75/100\n",
      "132/132 [==============================] - 0s 3ms/step - loss: 1.0368 - acc: 0.8636\n",
      "Epoch 76/100\n",
      "132/132 [==============================] - 0s 2ms/step - loss: 1.0110 - acc: 0.8939\n",
      "Epoch 77/100\n",
      "132/132 [==============================] - 0s 2ms/step - loss: 0.9895 - acc: 0.9167\n",
      "Epoch 78/100\n",
      "132/132 [==============================] - 0s 2ms/step - loss: 1.0036 - acc: 0.8939\n",
      "Epoch 79/100\n",
      "132/132 [==============================] - 0s 2ms/step - loss: 0.9879 - acc: 0.9167\n",
      "Epoch 80/100\n",
      "132/132 [==============================] - 0s 2ms/step - loss: 0.9745 - acc: 0.9318\n",
      "Epoch 81/100\n",
      "132/132 [==============================] - 0s 2ms/step - loss: 0.9548 - acc: 0.9470\n",
      "Epoch 82/100\n",
      "132/132 [==============================] - 0s 2ms/step - loss: 0.9630 - acc: 0.9394\n",
      "Epoch 83/100\n",
      "132/132 [==============================] - 0s 2ms/step - loss: 0.9655 - acc: 0.9394\n",
      "Epoch 84/100\n",
      "132/132 [==============================] - 0s 3ms/step - loss: 0.9620 - acc: 0.9394\n",
      "Epoch 85/100\n"
     ]
    },
    {
     "name": "stdout",
     "output_type": "stream",
     "text": [
      "132/132 [==============================] - 0s 2ms/step - loss: 0.9692 - acc: 0.9318\n",
      "Epoch 86/100\n",
      "132/132 [==============================] - 0s 2ms/step - loss: 0.9430 - acc: 0.9545\n",
      "Epoch 87/100\n",
      "132/132 [==============================] - 0s 2ms/step - loss: 0.9689 - acc: 0.9318\n",
      "Epoch 88/100\n",
      "132/132 [==============================] - 0s 2ms/step - loss: 0.9617 - acc: 0.9394\n",
      "Epoch 89/100\n",
      "132/132 [==============================] - 0s 2ms/step - loss: 0.9557 - acc: 0.9470\n",
      "Epoch 90/100\n",
      "132/132 [==============================] - 0s 2ms/step - loss: 0.9539 - acc: 0.9545\n",
      "Epoch 91/100\n",
      "132/132 [==============================] - 0s 2ms/step - loss: 0.9525 - acc: 0.9545\n",
      "Epoch 92/100\n",
      "132/132 [==============================] - 0s 2ms/step - loss: 0.9482 - acc: 0.9621\n",
      "Epoch 93/100\n",
      "132/132 [==============================] - 0s 2ms/step - loss: 0.9550 - acc: 0.9470\n",
      "Epoch 94/100\n",
      "132/132 [==============================] - 0s 3ms/step - loss: 0.9749 - acc: 0.9318\n",
      "Epoch 95/100\n",
      "132/132 [==============================] - 0s 2ms/step - loss: 0.9627 - acc: 0.9394\n",
      "Epoch 96/100\n",
      "132/132 [==============================] - 0s 2ms/step - loss: 0.9483 - acc: 0.9545\n",
      "Epoch 97/100\n",
      "132/132 [==============================] - 0s 2ms/step - loss: 0.9606 - acc: 0.9470\n",
      "Epoch 98/100\n",
      "132/132 [==============================] - 0s 2ms/step - loss: 0.9545 - acc: 0.9470\n",
      "Epoch 99/100\n",
      "132/132 [==============================] - 0s 2ms/step - loss: 0.9509 - acc: 0.9545\n",
      "Epoch 100/100\n",
      "132/132 [==============================] - 0s 2ms/step - loss: 0.9514 - acc: 0.9545\n"
     ]
    },
    {
     "data": {
      "text/plain": [
       "<keras.callbacks.History at 0x1a6c73470>"
      ]
     },
     "execution_count": 252,
     "metadata": {},
     "output_type": "execute_result"
    }
   ],
   "source": [
    "model.fit(X_train_indices, Y_train_oh, epochs = 100, batch_size = 32, shuffle=True)\n"
   ]
  },
  {
   "cell_type": "code",
   "execution_count": 253,
   "metadata": {},
   "outputs": [
    {
     "name": "stdout",
     "output_type": "stream",
     "text": [
      "56/56 [==============================] - 1s 25ms/step\n",
      "Test accuracy =  0.5714285714285714\n"
     ]
    }
   ],
   "source": [
    "X_test_indices = sentences_to_indices(X_test, word_to_index, max_len = maxLen)\n",
    "Y_test_oh = emo_utils.convert_to_one_hot(Y_test, C = 5)\n",
    "loss, acc = model.evaluate(X_test_indices, Y_test_oh)\n",
    "\n",
    "print(\"Test accuracy = \", acc)\n"
   ]
  },
  {
   "cell_type": "code",
   "execution_count": null,
   "metadata": {},
   "outputs": [],
   "source": []
  },
  {
   "cell_type": "code",
   "execution_count": null,
   "metadata": {},
   "outputs": [],
   "source": []
  },
  {
   "cell_type": "code",
   "execution_count": null,
   "metadata": {},
   "outputs": [],
   "source": []
  },
  {
   "cell_type": "code",
   "execution_count": null,
   "metadata": {},
   "outputs": [],
   "source": []
  },
  {
   "cell_type": "code",
   "execution_count": null,
   "metadata": {},
   "outputs": [],
   "source": []
  },
  {
   "cell_type": "code",
   "execution_count": null,
   "metadata": {},
   "outputs": [],
   "source": []
  },
  {
   "cell_type": "code",
   "execution_count": null,
   "metadata": {},
   "outputs": [],
   "source": []
  },
  {
   "cell_type": "code",
   "execution_count": null,
   "metadata": {},
   "outputs": [],
   "source": []
  }
 ],
 "metadata": {
  "kernelspec": {
   "display_name": "Python 3",
   "language": "python",
   "name": "python3"
  },
  "language_info": {
   "codemirror_mode": {
    "name": "ipython",
    "version": 3
   },
   "file_extension": ".py",
   "mimetype": "text/x-python",
   "name": "python",
   "nbconvert_exporter": "python",
   "pygments_lexer": "ipython3",
   "version": "3.6.3"
  }
 },
 "nbformat": 4,
 "nbformat_minor": 2
}
