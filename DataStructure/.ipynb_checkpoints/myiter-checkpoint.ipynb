{
 "cells": [
  {
   "cell_type": "code",
   "execution_count": null,
   "metadata": {},
   "outputs": [],
   "source": [
    "class MyIterator:\n",
    "    def __init__(self,letters):\n",
    "        self.letters = letters\n",
    "        self.position = 0\n",
    "    def __iter__(self):\n",
    "        return self\n",
    "    def __next__(self):\n",
    "        if self.position >= len(self.letters):\n",
    "            raise StopIteration\n",
    "        letter = self.letters[self.position]\n",
    "        self.position += 1\n",
    "        return letter\n",
    "\n",
    "if __name__ == \"__main__\":\n",
    "    i = MyIterator('abcd')\n",
    "    for item in i:\n",
    "        print (item)"
   ]
  }
 ],
 "metadata": {
  "kernelspec": {
   "display_name": "Python 3",
   "language": "python",
   "name": "python3"
  },
  "language_info": {
   "codemirror_mode": {
    "name": "ipython",
    "version": 3
   },
   "file_extension": ".py",
   "mimetype": "text/x-python",
   "name": "python",
   "nbconvert_exporter": "python",
   "pygments_lexer": "ipython3",
   "version": "3.6.3"
  }
 },
 "nbformat": 4,
 "nbformat_minor": 2
}
